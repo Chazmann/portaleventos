{
 "cells": [
  {
   "cell_type": "markdown",
   "metadata": {},
   "source": [
    "Para crear un nuevo componente, siempre y cuando tengamos instalada la extensión ES7+ React/Redux/React-Native snippets, podemos utilizar el atajo rafce y presionar tab o enter para crear la estructura básica de un componente en ReactJs."
   ]
  },
  {
   "cell_type": "code",
   "execution_count": null,
   "metadata": {
    "vscode": {
     "languageId": "javascript"
    }
   },
   "outputs": [],
   "source": [
    "import React from 'react'\n",
    "\n",
    "const instrucciones = () => {\n",
    "  return (\n",
    "    <div>instrucciones</div>\n",
    "  )\n",
    "}\n",
    "\n",
    "export default instrucciones"
   ]
  },
  {
   "cell_type": "markdown",
   "metadata": {},
   "source": [
    "Para importar una imagen en JSX, una de las opciones es mediante la asignación previa de una ruta de dicha imagen y una variable la recibirá."
   ]
  },
  {
   "cell_type": "code",
   "execution_count": null,
   "metadata": {
    "vscode": {
     "languageId": "javascript"
    }
   },
   "outputs": [],
   "source": [
    "import nombreCoso from './assets/react.svg'"
   ]
  },
  {
   "cell_type": "markdown",
   "metadata": {},
   "source": [
    "Y luego para asignar la ruta de la imagen a la etiqueta img src lo hago de la siguiente manera"
   ]
  },
  {
   "cell_type": "code",
   "execution_count": null,
   "metadata": {
    "vscode": {
     "languageId": "html"
    }
   },
   "outputs": [],
   "source": [
    "<img src={nombreCoso}>"
   ]
  }
 ],
 "metadata": {
  "language_info": {
   "name": "python"
  },
  "orig_nbformat": 4
 },
 "nbformat": 4,
 "nbformat_minor": 2
}
