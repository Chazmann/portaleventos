{
 "cells": [
  {
   "cell_type": "markdown",
   "metadata": {},
   "source": [
    "<h3>React Router</h3>"
   ]
  },
  {
   "cell_type": "markdown",
   "metadata": {},
   "source": [
    "<b>React Router</b> es una librería que permite una navegación dinámica sin refrescar la página completa. En las aplicaciones de una única página se habilita la posibilidad de navegarla sin necesidad de tener múltiples páginas. Es decir, que se va a estar navegando entre componentes."
   ]
  },
  {
   "cell_type": "markdown",
   "metadata": {},
   "source": [
    "<b>01. Instalar React Router</b> - Utilizaremos el instalador de Node.js a través de npm (también se puede utilizar cualquier otro manejador de paquetes, yarn, pmpm, etc.) Hay que instalarlo en el directorio de nuestro proyecto."
   ]
  },
  {
   "cell_type": "code",
   "execution_count": null,
   "metadata": {
    "vscode": {
     "languageId": "javascript"
    }
   },
   "outputs": [],
   "source": [
    "npm i react-router-dom"
   ]
  },
  {
   "cell_type": "markdown",
   "metadata": {},
   "source": [
    "<b>02. Importar el componente React Router</b> - Luego de instalar react-router-dom, vamos a proceder a importarlo dentro de nuestro archivo Main.jsx o aquel que hayamos definido como manejador principal de componentes."
   ]
  },
  {
   "cell_type": "code",
   "execution_count": null,
   "metadata": {
    "vscode": {
     "languageId": "javascript"
    }
   },
   "outputs": [],
   "source": [
    "import { BrowserRouter } from \"react-router-dom\";"
   ]
  },
  {
   "cell_type": "markdown",
   "metadata": {},
   "source": [
    "<b>03. Aplicar Browser Router en Main.jsx</b> - Para comenzar a utilizar la navegación debemos envolver nuestros componentes que van a aparecer en Main.jsx con BrowserRouter en lugar de usar React.StrictMode"
   ]
  },
  {
   "cell_type": "code",
   "execution_count": null,
   "metadata": {
    "vscode": {
     "languageId": "javascript"
    }
   },
   "outputs": [],
   "source": [
    "import React from 'react';\n",
    "import ReactDOM from 'react-dom';\n",
    "import './indice.css';\n",
    "import App from './Aplicacion';\n",
    "import { BrowserRouter } from \"react-router-dom\";\n",
    "\n",
    "ReactDOM.render (\n",
    "    <BrowserRouter>\n",
    "      //mis componentes a mostrar\n",
    "      <App />\n",
    "    \n",
    "    </BrowserRouter>\n",
    "  )\n"
   ]
  },
  {
   "cell_type": "markdown",
   "metadata": {},
   "source": [
    "De esta manera estamos importando el componente BrowserRouter en la raiz de nuestra aplicación."
   ]
  },
  {
   "cell_type": "markdown",
   "metadata": {},
   "source": [
    "<b>04. Utilización de Link, Route y Routes</b> - El primer paso es importar dentro de App.jsx los componentes desde la libreria react-router-dom.<br>\n",
    "<br>Para navegar entre distintas \"páginas\" utilizabamos la etiqueta Anchor <b> a href</b>, en la cual le indicábamos una ruta específica hacia donde dirigirse. <p>En React vamos a utilizar el componente <b>Link</b>.\n",
    "También le vamos a poder asignar estilos mediante className.</p>\n",
    "\n"
   ]
  },
  {
   "cell_type": "code",
   "execution_count": null,
   "metadata": {
    "vscode": {
     "languageId": "javascript"
    }
   },
   "outputs": [],
   "source": [
    "<Link className='boton' href=\"/galeria\"></Link>"
   ]
  },
  {
   "cell_type": "markdown",
   "metadata": {},
   "source": [
    "<p>Por otro lado, debemos definir nuestras rutas hacia donde apuntar los Links. Para ello utilizaremos Routes en dónde Route será el destino de cada componente. Ambas etiquetas deben cerrarse.\n",
    "</p>"
   ]
  },
  {
   "cell_type": "code",
   "execution_count": null,
   "metadata": {
    "vscode": {
     "languageId": "javascript"
    }
   },
   "outputs": [],
   "source": [
    "import {Link, Route, Routes} from 'react-router-dom'\n",
    "export const App (){\n",
    "    return(\n",
    "        <Routes>\n",
    "            <Route index path=\"/\" element={<Main />} />\n",
    "            <Route path=\"/nosotros\" element={<Nosotros />} />\n",
    "            <Route path=\"/contacto\" element={<Contacto />} />\n",
    "        </Routes>\n",
    "    )\n",
    "}"
   ]
  },
  {
   "cell_type": "markdown",
   "metadata": {},
   "source": [
    "Route está compuesto por dos partes, la ruta --> <i>path=\"/nombreruta\"</i> que será la dirección que utilizaremos en la etiqueta Link.<br>\n",
    "También debemos definir que componente va a mostrarse y para ello agregamos el atributo <i>element={Componente}</i>, será en donde indicaremos que componente debe \"llamar\"."
   ]
  },
  {
   "cell_type": "code",
   "execution_count": null,
   "metadata": {
    "vscode": {
     "languageId": "javascript"
    }
   },
   "outputs": [],
   "source": [
    "<Route path=\"/nosotros\" element={<Nosotros />}></Route>"
   ]
  }
 ],
 "metadata": {
  "language_info": {
   "name": "python"
  },
  "orig_nbformat": 4
 },
 "nbformat": 4,
 "nbformat_minor": 2
}
